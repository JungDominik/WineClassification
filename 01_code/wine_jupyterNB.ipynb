{
 "cells": [
  {
   "cell_type": "markdown",
   "id": "874a5a39",
   "metadata": {},
   "source": [
    "# Wine Data: Comparison of different classification methods\n",
    "\n",
    "Sample project using a dataset from UC Irvine Machinelearning Repository. \n",
    "- 3 Different Wine Types\n",
    "- 13 attributes (Chemical analysis of the wines)\n",
    "- Dataset can be obtained from: https://archive.ics.uci.edu/ml/datasets/wine\n",
    "\n",
    "Classification Methods Compard\n",
    "- Linear Discriminant Analysis \n",
    "- RandomForest\n",
    "- AdaBoost \n",
    "- K-Nearest-Neighbors"
   ]
  },
  {
   "cell_type": "markdown",
   "id": "93e59902",
   "metadata": {},
   "source": [
    "\n",
    "\n",
    "\n",
    "\n",
    "## 1. Preparation: Import of required Python packages"
   ]
  },
  {
   "cell_type": "code",
   "execution_count": 15,
   "id": "55c01427",
   "metadata": {},
   "outputs": [],
   "source": [
    "import os\n",
    "import pandas as pd\n",
    "import numpy as np\n",
    "import matplotlib.pyplot as plt\n",
    "\n",
    "from sklearn.decomposition import PCA\n",
    "from sklearn.model_selection import train_test_split\n",
    "from sklearn.metrics import confusion_matrix, ConfusionMatrixDisplay\n",
    "from sklearn.ensemble import RandomForestClassifier\n",
    "from sklearn.neighbors import KNeighborsClassifier\n",
    "from sklearn.ensemble import AdaBoostClassifier\n",
    "\n",
    "from sklearn import preprocessing\n"
   ]
  },
  {
   "cell_type": "code",
   "execution_count": 16,
   "id": "f3f65fd5",
   "metadata": {},
   "outputs": [],
   "source": [
    "#path = 'C:\\\\Pythontest Anaconda\\\\Statquest\\\\projects\\\\wine\\\\'\n",
    "#ROOT_DIR = os.path.realpath(os.path.join(os.path.dirname(__file__), '..', ))    #Deprecated\n",
    "ROOT_DIR = os.path.realpath(os.path.join(os.path.abspath(''), '..', ))\n",
    "\n",
    "df_data_raw = pd.read_csv(ROOT_DIR + '\\\\00_data\\\\' + 'wine.data')\n",
    "\n",
    "names = ['WineClass',\n",
    "         'Alcohol'\n",
    " \t, 'Malic acid'\n",
    " \t, 'Ash'\n",
    "\t, 'Alcalinity of ash'\n",
    " \t, 'Magnesium'\n",
    "\t, 'Total phenols'\n",
    " \t, 'Flavanoids'\n",
    " \t, 'Nonflavanoid phenols'\n",
    " \t, 'Proanthocyanins'\n",
    "\t,'Color intensity'\n",
    " \t,'Hue'\n",
    " \t,'OD/OD of diluted wines'\n",
    " \t,'Proline']\n",
    "\n",
    "df_data_raw.columns = names"
   ]
  },
  {
   "cell_type": "markdown",
   "id": "829bd5c3",
   "metadata": {},
   "source": [
    "##### Show dataframe"
   ]
  },
  {
   "cell_type": "code",
   "execution_count": 17,
   "id": "cc9ffafe",
   "metadata": {},
   "outputs": [
    {
     "data": {
      "text/html": [
       "<div>\n",
       "<style scoped>\n",
       "    .dataframe tbody tr th:only-of-type {\n",
       "        vertical-align: middle;\n",
       "    }\n",
       "\n",
       "    .dataframe tbody tr th {\n",
       "        vertical-align: top;\n",
       "    }\n",
       "\n",
       "    .dataframe thead th {\n",
       "        text-align: right;\n",
       "    }\n",
       "</style>\n",
       "<table border=\"1\" class=\"dataframe\">\n",
       "  <thead>\n",
       "    <tr style=\"text-align: right;\">\n",
       "      <th></th>\n",
       "      <th>WineClass</th>\n",
       "      <th>Alcohol</th>\n",
       "      <th>Malic acid</th>\n",
       "      <th>Ash</th>\n",
       "      <th>Alcalinity of ash</th>\n",
       "      <th>Magnesium</th>\n",
       "      <th>Total phenols</th>\n",
       "      <th>Flavanoids</th>\n",
       "      <th>Nonflavanoid phenols</th>\n",
       "      <th>Proanthocyanins</th>\n",
       "      <th>Color intensity</th>\n",
       "      <th>Hue</th>\n",
       "      <th>OD/OD of diluted wines</th>\n",
       "      <th>Proline</th>\n",
       "    </tr>\n",
       "  </thead>\n",
       "  <tbody>\n",
       "    <tr>\n",
       "      <th>0</th>\n",
       "      <td>1</td>\n",
       "      <td>13.20</td>\n",
       "      <td>1.78</td>\n",
       "      <td>2.14</td>\n",
       "      <td>11.2</td>\n",
       "      <td>100</td>\n",
       "      <td>2.65</td>\n",
       "      <td>2.76</td>\n",
       "      <td>0.26</td>\n",
       "      <td>1.28</td>\n",
       "      <td>4.38</td>\n",
       "      <td>1.05</td>\n",
       "      <td>3.40</td>\n",
       "      <td>1050</td>\n",
       "    </tr>\n",
       "    <tr>\n",
       "      <th>1</th>\n",
       "      <td>1</td>\n",
       "      <td>13.16</td>\n",
       "      <td>2.36</td>\n",
       "      <td>2.67</td>\n",
       "      <td>18.6</td>\n",
       "      <td>101</td>\n",
       "      <td>2.80</td>\n",
       "      <td>3.24</td>\n",
       "      <td>0.30</td>\n",
       "      <td>2.81</td>\n",
       "      <td>5.68</td>\n",
       "      <td>1.03</td>\n",
       "      <td>3.17</td>\n",
       "      <td>1185</td>\n",
       "    </tr>\n",
       "    <tr>\n",
       "      <th>2</th>\n",
       "      <td>1</td>\n",
       "      <td>14.37</td>\n",
       "      <td>1.95</td>\n",
       "      <td>2.50</td>\n",
       "      <td>16.8</td>\n",
       "      <td>113</td>\n",
       "      <td>3.85</td>\n",
       "      <td>3.49</td>\n",
       "      <td>0.24</td>\n",
       "      <td>2.18</td>\n",
       "      <td>7.80</td>\n",
       "      <td>0.86</td>\n",
       "      <td>3.45</td>\n",
       "      <td>1480</td>\n",
       "    </tr>\n",
       "    <tr>\n",
       "      <th>3</th>\n",
       "      <td>1</td>\n",
       "      <td>13.24</td>\n",
       "      <td>2.59</td>\n",
       "      <td>2.87</td>\n",
       "      <td>21.0</td>\n",
       "      <td>118</td>\n",
       "      <td>2.80</td>\n",
       "      <td>2.69</td>\n",
       "      <td>0.39</td>\n",
       "      <td>1.82</td>\n",
       "      <td>4.32</td>\n",
       "      <td>1.04</td>\n",
       "      <td>2.93</td>\n",
       "      <td>735</td>\n",
       "    </tr>\n",
       "    <tr>\n",
       "      <th>4</th>\n",
       "      <td>1</td>\n",
       "      <td>14.20</td>\n",
       "      <td>1.76</td>\n",
       "      <td>2.45</td>\n",
       "      <td>15.2</td>\n",
       "      <td>112</td>\n",
       "      <td>3.27</td>\n",
       "      <td>3.39</td>\n",
       "      <td>0.34</td>\n",
       "      <td>1.97</td>\n",
       "      <td>6.75</td>\n",
       "      <td>1.05</td>\n",
       "      <td>2.85</td>\n",
       "      <td>1450</td>\n",
       "    </tr>\n",
       "    <tr>\n",
       "      <th>...</th>\n",
       "      <td>...</td>\n",
       "      <td>...</td>\n",
       "      <td>...</td>\n",
       "      <td>...</td>\n",
       "      <td>...</td>\n",
       "      <td>...</td>\n",
       "      <td>...</td>\n",
       "      <td>...</td>\n",
       "      <td>...</td>\n",
       "      <td>...</td>\n",
       "      <td>...</td>\n",
       "      <td>...</td>\n",
       "      <td>...</td>\n",
       "      <td>...</td>\n",
       "    </tr>\n",
       "    <tr>\n",
       "      <th>172</th>\n",
       "      <td>3</td>\n",
       "      <td>13.71</td>\n",
       "      <td>5.65</td>\n",
       "      <td>2.45</td>\n",
       "      <td>20.5</td>\n",
       "      <td>95</td>\n",
       "      <td>1.68</td>\n",
       "      <td>0.61</td>\n",
       "      <td>0.52</td>\n",
       "      <td>1.06</td>\n",
       "      <td>7.70</td>\n",
       "      <td>0.64</td>\n",
       "      <td>1.74</td>\n",
       "      <td>740</td>\n",
       "    </tr>\n",
       "    <tr>\n",
       "      <th>173</th>\n",
       "      <td>3</td>\n",
       "      <td>13.40</td>\n",
       "      <td>3.91</td>\n",
       "      <td>2.48</td>\n",
       "      <td>23.0</td>\n",
       "      <td>102</td>\n",
       "      <td>1.80</td>\n",
       "      <td>0.75</td>\n",
       "      <td>0.43</td>\n",
       "      <td>1.41</td>\n",
       "      <td>7.30</td>\n",
       "      <td>0.70</td>\n",
       "      <td>1.56</td>\n",
       "      <td>750</td>\n",
       "    </tr>\n",
       "    <tr>\n",
       "      <th>174</th>\n",
       "      <td>3</td>\n",
       "      <td>13.27</td>\n",
       "      <td>4.28</td>\n",
       "      <td>2.26</td>\n",
       "      <td>20.0</td>\n",
       "      <td>120</td>\n",
       "      <td>1.59</td>\n",
       "      <td>0.69</td>\n",
       "      <td>0.43</td>\n",
       "      <td>1.35</td>\n",
       "      <td>10.20</td>\n",
       "      <td>0.59</td>\n",
       "      <td>1.56</td>\n",
       "      <td>835</td>\n",
       "    </tr>\n",
       "    <tr>\n",
       "      <th>175</th>\n",
       "      <td>3</td>\n",
       "      <td>13.17</td>\n",
       "      <td>2.59</td>\n",
       "      <td>2.37</td>\n",
       "      <td>20.0</td>\n",
       "      <td>120</td>\n",
       "      <td>1.65</td>\n",
       "      <td>0.68</td>\n",
       "      <td>0.53</td>\n",
       "      <td>1.46</td>\n",
       "      <td>9.30</td>\n",
       "      <td>0.60</td>\n",
       "      <td>1.62</td>\n",
       "      <td>840</td>\n",
       "    </tr>\n",
       "    <tr>\n",
       "      <th>176</th>\n",
       "      <td>3</td>\n",
       "      <td>14.13</td>\n",
       "      <td>4.10</td>\n",
       "      <td>2.74</td>\n",
       "      <td>24.5</td>\n",
       "      <td>96</td>\n",
       "      <td>2.05</td>\n",
       "      <td>0.76</td>\n",
       "      <td>0.56</td>\n",
       "      <td>1.35</td>\n",
       "      <td>9.20</td>\n",
       "      <td>0.61</td>\n",
       "      <td>1.60</td>\n",
       "      <td>560</td>\n",
       "    </tr>\n",
       "  </tbody>\n",
       "</table>\n",
       "<p>177 rows × 14 columns</p>\n",
       "</div>"
      ],
      "text/plain": [
       "     WineClass  Alcohol  Malic acid   Ash  Alcalinity of ash  Magnesium  \\\n",
       "0            1    13.20        1.78  2.14               11.2        100   \n",
       "1            1    13.16        2.36  2.67               18.6        101   \n",
       "2            1    14.37        1.95  2.50               16.8        113   \n",
       "3            1    13.24        2.59  2.87               21.0        118   \n",
       "4            1    14.20        1.76  2.45               15.2        112   \n",
       "..         ...      ...         ...   ...                ...        ...   \n",
       "172          3    13.71        5.65  2.45               20.5         95   \n",
       "173          3    13.40        3.91  2.48               23.0        102   \n",
       "174          3    13.27        4.28  2.26               20.0        120   \n",
       "175          3    13.17        2.59  2.37               20.0        120   \n",
       "176          3    14.13        4.10  2.74               24.5         96   \n",
       "\n",
       "     Total phenols  Flavanoids  Nonflavanoid phenols  Proanthocyanins  \\\n",
       "0             2.65        2.76                  0.26             1.28   \n",
       "1             2.80        3.24                  0.30             2.81   \n",
       "2             3.85        3.49                  0.24             2.18   \n",
       "3             2.80        2.69                  0.39             1.82   \n",
       "4             3.27        3.39                  0.34             1.97   \n",
       "..             ...         ...                   ...              ...   \n",
       "172           1.68        0.61                  0.52             1.06   \n",
       "173           1.80        0.75                  0.43             1.41   \n",
       "174           1.59        0.69                  0.43             1.35   \n",
       "175           1.65        0.68                  0.53             1.46   \n",
       "176           2.05        0.76                  0.56             1.35   \n",
       "\n",
       "     Color intensity   Hue  OD/OD of diluted wines  Proline  \n",
       "0               4.38  1.05                    3.40     1050  \n",
       "1               5.68  1.03                    3.17     1185  \n",
       "2               7.80  0.86                    3.45     1480  \n",
       "3               4.32  1.04                    2.93      735  \n",
       "4               6.75  1.05                    2.85     1450  \n",
       "..               ...   ...                     ...      ...  \n",
       "172             7.70  0.64                    1.74      740  \n",
       "173             7.30  0.70                    1.56      750  \n",
       "174            10.20  0.59                    1.56      835  \n",
       "175             9.30  0.60                    1.62      840  \n",
       "176             9.20  0.61                    1.60      560  \n",
       "\n",
       "[177 rows x 14 columns]"
      ]
     },
     "execution_count": 17,
     "metadata": {},
     "output_type": "execute_result"
    }
   ],
   "source": [
    "df_data_raw"
   ]
  },
  {
   "cell_type": "markdown",
   "id": "4a0be7e3",
   "metadata": {},
   "source": [
    "##### Outline of the data\n",
    "- n = 177 Observations in the dataset \n",
    "- p = 13 independent variables / attributes\n",
    "- y (Dependent Attribute 'WineClass') can take values [1,2,3] -> Represents three different types of wine\n"
   ]
  },
  {
   "cell_type": "markdown",
   "id": "800692f0",
   "metadata": {},
   "source": [
    "##### Further analysis\n",
    " - Check missing --> Seemingly no columns have missing values\n",
    " - Create dummies --> Not necessary, no categorical variables, all float\n",
    "\n"
   ]
  },
  {
   "cell_type": "markdown",
   "id": "96829321",
   "metadata": {},
   "source": [
    "### Modeling Prep: Split into X and y\n",
    "Here we simply split the set into \n",
    "- the independent variables, which we will use for prediction (X)\n",
    "- the dependent variable, which we aim to predict (y)"
   ]
  },
  {
   "cell_type": "code",
   "execution_count": 18,
   "id": "d59c9de6",
   "metadata": {},
   "outputs": [],
   "source": [
    "X = df_data_raw.drop(columns = 'WineClass')\n",
    "names = names[1:]\n",
    "y = df_data_raw['WineClass']"
   ]
  },
  {
   "cell_type": "markdown",
   "id": "33f17455",
   "metadata": {},
   "source": [
    "### Split X into Train and test\n",
    "\n",
    "The different classification methods we compare will require to split the Dataset into two smaller sets: Training and test.\n",
    "\n",
    "- The training set \"X_train\" will be used for model creation. \n",
    "- The testing set \"X_test\" (data yet unknown to the model) will be used to evaluate the model performance, eg. with a confusion matrix.\n",
    "\n",
    "The proportion of training to test data is the scikit-learn default (75% - 25%)"
   ]
  },
  {
   "cell_type": "code",
   "execution_count": 19,
   "id": "b5ff133f",
   "metadata": {},
   "outputs": [
    {
     "data": {
      "text/html": [
       "<div>\n",
       "<style scoped>\n",
       "    .dataframe tbody tr th:only-of-type {\n",
       "        vertical-align: middle;\n",
       "    }\n",
       "\n",
       "    .dataframe tbody tr th {\n",
       "        vertical-align: top;\n",
       "    }\n",
       "\n",
       "    .dataframe thead th {\n",
       "        text-align: right;\n",
       "    }\n",
       "</style>\n",
       "<table border=\"1\" class=\"dataframe\">\n",
       "  <thead>\n",
       "    <tr style=\"text-align: right;\">\n",
       "      <th></th>\n",
       "      <th>Alcohol</th>\n",
       "      <th>Malic acid</th>\n",
       "      <th>Ash</th>\n",
       "      <th>Alcalinity of ash</th>\n",
       "      <th>Magnesium</th>\n",
       "      <th>Total phenols</th>\n",
       "      <th>Flavanoids</th>\n",
       "      <th>Nonflavanoid phenols</th>\n",
       "      <th>Proanthocyanins</th>\n",
       "      <th>Color intensity</th>\n",
       "      <th>Hue</th>\n",
       "      <th>OD/OD of diluted wines</th>\n",
       "      <th>Proline</th>\n",
       "    </tr>\n",
       "  </thead>\n",
       "  <tbody>\n",
       "    <tr>\n",
       "      <th>19</th>\n",
       "      <td>14.06</td>\n",
       "      <td>1.63</td>\n",
       "      <td>2.28</td>\n",
       "      <td>16.0</td>\n",
       "      <td>126</td>\n",
       "      <td>3.00</td>\n",
       "      <td>3.17</td>\n",
       "      <td>0.24</td>\n",
       "      <td>2.10</td>\n",
       "      <td>5.65</td>\n",
       "      <td>1.09</td>\n",
       "      <td>3.71</td>\n",
       "      <td>780</td>\n",
       "    </tr>\n",
       "    <tr>\n",
       "      <th>45</th>\n",
       "      <td>14.38</td>\n",
       "      <td>3.59</td>\n",
       "      <td>2.28</td>\n",
       "      <td>16.0</td>\n",
       "      <td>102</td>\n",
       "      <td>3.25</td>\n",
       "      <td>3.17</td>\n",
       "      <td>0.27</td>\n",
       "      <td>2.19</td>\n",
       "      <td>4.90</td>\n",
       "      <td>1.04</td>\n",
       "      <td>3.44</td>\n",
       "      <td>1065</td>\n",
       "    </tr>\n",
       "    <tr>\n",
       "      <th>139</th>\n",
       "      <td>12.93</td>\n",
       "      <td>2.81</td>\n",
       "      <td>2.70</td>\n",
       "      <td>21.0</td>\n",
       "      <td>96</td>\n",
       "      <td>1.54</td>\n",
       "      <td>0.50</td>\n",
       "      <td>0.53</td>\n",
       "      <td>0.75</td>\n",
       "      <td>4.60</td>\n",
       "      <td>0.77</td>\n",
       "      <td>2.31</td>\n",
       "      <td>600</td>\n",
       "    </tr>\n",
       "    <tr>\n",
       "      <th>30</th>\n",
       "      <td>13.58</td>\n",
       "      <td>1.66</td>\n",
       "      <td>2.36</td>\n",
       "      <td>19.1</td>\n",
       "      <td>106</td>\n",
       "      <td>2.86</td>\n",
       "      <td>3.19</td>\n",
       "      <td>0.22</td>\n",
       "      <td>1.95</td>\n",
       "      <td>6.90</td>\n",
       "      <td>1.09</td>\n",
       "      <td>2.88</td>\n",
       "      <td>1515</td>\n",
       "    </tr>\n",
       "    <tr>\n",
       "      <th>67</th>\n",
       "      <td>13.34</td>\n",
       "      <td>0.94</td>\n",
       "      <td>2.36</td>\n",
       "      <td>17.0</td>\n",
       "      <td>110</td>\n",
       "      <td>2.53</td>\n",
       "      <td>1.30</td>\n",
       "      <td>0.55</td>\n",
       "      <td>0.42</td>\n",
       "      <td>3.17</td>\n",
       "      <td>1.02</td>\n",
       "      <td>1.93</td>\n",
       "      <td>750</td>\n",
       "    </tr>\n",
       "  </tbody>\n",
       "</table>\n",
       "</div>"
      ],
      "text/plain": [
       "     Alcohol  Malic acid   Ash  Alcalinity of ash  Magnesium  Total phenols  \\\n",
       "19     14.06        1.63  2.28               16.0        126           3.00   \n",
       "45     14.38        3.59  2.28               16.0        102           3.25   \n",
       "139    12.93        2.81  2.70               21.0         96           1.54   \n",
       "30     13.58        1.66  2.36               19.1        106           2.86   \n",
       "67     13.34        0.94  2.36               17.0        110           2.53   \n",
       "\n",
       "     Flavanoids  Nonflavanoid phenols  Proanthocyanins  Color intensity   Hue  \\\n",
       "19         3.17                  0.24             2.10             5.65  1.09   \n",
       "45         3.17                  0.27             2.19             4.90  1.04   \n",
       "139        0.50                  0.53             0.75             4.60  0.77   \n",
       "30         3.19                  0.22             1.95             6.90  1.09   \n",
       "67         1.30                  0.55             0.42             3.17  1.02   \n",
       "\n",
       "     OD/OD of diluted wines  Proline  \n",
       "19                     3.71      780  \n",
       "45                     3.44     1065  \n",
       "139                    2.31      600  \n",
       "30                     2.88     1515  \n",
       "67                     1.93      750  "
      ]
     },
     "execution_count": 19,
     "metadata": {},
     "output_type": "execute_result"
    }
   ],
   "source": [
    "X_train, X_test, y_train, y_test = train_test_split(X, y, random_state = 42)\n",
    "\n",
    "X_train.head()\n",
    "X_test.head()"
   ]
  },
  {
   "cell_type": "markdown",
   "id": "e9da4fcf",
   "metadata": {},
   "source": [
    "\n",
    "\n",
    "\n",
    "\n",
    "## 2. Exploratory Data Analysis\n",
    "### Principle Component Analysis\n",
    "\n",
    "Principle Component Analysis is a method of dimension reduction. It combines the 13 attributes in the original dataset into a smaller number of attributes. By doing this, the dataset can be visualized in a 2D-Plot and we will receive an evaluation, which of the attributes most explain the variance in the data."
   ]
  },
  {
   "cell_type": "code",
   "execution_count": 20,
   "id": "8142e32f",
   "metadata": {},
   "outputs": [],
   "source": [
    "X_transformed = preprocessing.scale(X) #Preparation. PCA requires the  data in scaled form.\n",
    "\n",
    "pca = PCA(n_components = 10)\n",
    "pca.fit(X_transformed)\n",
    "data_pca_transformed = pca.transform(X_transformed)"
   ]
  },
  {
   "cell_type": "markdown",
   "id": "2dee8d32",
   "metadata": {},
   "source": [
    "How many Principal Components do we need to show? To decide, we create a  Scree Plot: It shows the different Principal Components and the percentage of data variance they each explain.\n",
    "\n",
    "Our ideally situation would be a small number of Principal Components which still explain a lot of the variance"
   ]
  },
  {
   "cell_type": "code",
   "execution_count": 21,
   "id": "c119fd5c",
   "metadata": {},
   "outputs": [
    {
     "data": {
      "image/png": "[encoded data removed]",
      "text/plain": [
       "<Figure size 432x288 with 1 Axes>"
      ]
     },
     "metadata": {
      "needs_background": "light"
     },
     "output_type": "display_data"
    }
   ],
   "source": [
    "per_var = np.round(pca.explained_variance_ratio_ * 100, decimals = 1 )\n",
    "labels = ['PC' + str(x) for x in range (1, len(per_var)+1)]\n",
    "\n",
    "plt.bar(x = range (1, len(per_var) + 1), height = per_var, tick_label = labels)\n",
    "plt.ylabel('Percentage of Explained Variance')\n",
    "plt.xlabel ('Principal Component #')\n",
    "plt.title('Scree Plot for PCA')\n",
    "plt.show()"
   ]
  },
  {
   "cell_type": "markdown",
   "id": "ca436577",
   "metadata": {},
   "source": [
    "Evaluation of Scree Plot: Which percentage of variation does each Principal Component explain?\n",
    "- PC1: Explains 35% of data variance\n",
    "- PC2 ~20, PC3 ~12%. \n",
    "\n",
    "--> Focus on PC1 and PC2 (James et al.: \"smallest number of principal components that are required in order to explain a sizable amount of the variation in the data)\n"
   ]
  },
  {
   "cell_type": "markdown",
   "id": "7faa429f",
   "metadata": {},
   "source": [
    "### PCA Evaluation: Check loading scores\n",
    "\n",
    "We display the loading scores of the attributes in the principal components. A high loadingscore for an attribute signifies that a large percentage of the variation in the data is due to this attribute"
   ]
  },
  {
   "cell_type": "code",
   "execution_count": 22,
   "id": "89a81dcf",
   "metadata": {},
   "outputs": [
    {
     "name": "stdout",
     "output_type": "stream",
     "text": [
      "Flavanoids                0.424394\n",
      "Total phenols             0.395869\n",
      "OD/OD of diluted wines    0.377203\n",
      "Proanthocyanins           0.312803\n",
      "Hue                       0.299565\n",
      "Nonflavanoid phenols     -0.299136\n",
      "Proline                   0.284281\n",
      "Malic acid               -0.246381\n",
      "Alcalinity of ash        -0.237380\n",
      "Alcohol                   0.137888\n",
      "dtype: float64\n"
     ]
    }
   ],
   "source": [
    "loading_scores = pd.Series(pca.components_[0], index = names)\n",
    "sorted_loading_scores = loading_scores.abs().sort_values(ascending = False)\n",
    "top_10_attributes = sorted_loading_scores[0:10].index.values\n",
    "\n",
    "print(loading_scores[top_10_attributes])"
   ]
  },
  {
   "cell_type": "markdown",
   "id": "8b90ae49",
   "metadata": {},
   "source": [
    "Evaluation of Loadingscores: No one attribute with the strongest loadingscore stands out of the analysis\n"
   ]
  },
  {
   "cell_type": "markdown",
   "id": "fefac4ee",
   "metadata": {},
   "source": [
    "### PCA Evaluation: Plot of the Data \n",
    "\n",
    "Plot the observations with there attributes expressed as Principal Components PC1 and PC2"
   ]
  },
  {
   "cell_type": "code",
   "execution_count": 23,
   "id": "0f42da4a",
   "metadata": {},
   "outputs": [
    {
     "data": {
      "image/png": "[encoded data removed]",
      "text/plain": [
       "<Figure size 432x288 with 1 Axes>"
      ]
     },
     "metadata": {
      "needs_background": "light"
     },
     "output_type": "display_data"
    }
   ],
   "source": [
    "df_pca = pd.DataFrame(data_pca_transformed, columns = labels) #For plotting: Extract data out of PCA-Transformation (numpy-array) into Pandas dataframe --> Has indices and labels\n",
    "\n",
    "plt.scatter(df_pca.PC1, df_pca.PC2)\n",
    "plt.title('PCA Graph')\n",
    "plt.xlabel('PC1 - {0}%'.format(per_var[0]))\n",
    "plt.ylabel('PC2 - {0}%'.format(per_var[1]))\n",
    "\n",
    "for sample in df_pca.index:\n",
    "     #plt.annotate(sample, (df_pca.PC1.loc[sample], df_pca.PC2.loc[sample]))\n",
    "     #plt.annotate(sample, (df_data_raw.WineClass.loc[sample]))\n",
    "    colors = [\"y\", \"r\",\"g\",\"b\"]\n",
    "    \n",
    "    plt.annotate(\n",
    "         xy = (df_pca.PC1.loc[sample], df_pca.PC2.loc[sample]),\n",
    "         text = df_data_raw.WineClass[sample], \n",
    "         color = colors[df_data_raw.WineClass[sample]]        \n",
    "         )\n",
    "     \n",
    "plt.show()"
   ]
  },
  {
   "cell_type": "markdown",
   "id": "f5908edc",
   "metadata": {},
   "source": [
    "\n",
    "\n",
    "\n",
    "\n",
    "## 3. Comparison of Classification Methods\n",
    "\n",
    "Having cleaned and explored the data, we can now apply the different classification methods.\n",
    "\n",
    "For each we will evaluate their performance using a confusion matrix. Later we will compare the methods.\n",
    "\n",
    "### First model: Random Forest Classifier"
   ]
  },
  {
   "cell_type": "code",
   "execution_count": 24,
   "id": "cc50f454",
   "metadata": {},
   "outputs": [
    {
     "data": {
      "text/plain": [
       "RandomForestClassifier(max_depth=2, random_state=42)"
      ]
     },
     "execution_count": 24,
     "metadata": {},
     "output_type": "execute_result"
    }
   ],
   "source": [
    "clf_rf = RandomForestClassifier(max_depth=2, random_state = 42)\n",
    "clf_rf.fit(X_train, y_train)"
   ]
  },
  {
   "cell_type": "markdown",
   "id": "c7e0d44e",
   "metadata": {},
   "source": [
    "##### Confusionmatrix for Test Set Predictions\n",
    "\n",
    "We just  created and fitted the model on the training data (\"X_test\"). "
   ]
  },
  {
   "cell_type": "code",
   "execution_count": 25,
   "id": "d68efc60",
   "metadata": {},
   "outputs": [
    {
     "data": {
      "text/plain": [
       "Text(0.5, 1.0, 'Confusion Matrix for Random Forest: Relative Values')"
      ]
     },
     "execution_count": 25,
     "metadata": {},
     "output_type": "execute_result"
    },
    {
     "data": {
      "image/png": "[encoded data removed]",
      "text/plain": [
       "<Figure size 432x288 with 2 Axes>"
      ]
     },
     "metadata": {
      "needs_background": "light"
     },
     "output_type": "display_data"
    },
    {
     "data": {
      "image/png": "[encoded data removed]",
      "text/plain": [
       "<Figure size 432x288 with 2 Axes>"
      ]
     },
     "metadata": {
      "needs_background": "light"
     },
     "output_type": "display_data"
    }
   ],
   "source": [
    "predictions_rf = clf_rf.predict(X_test)\n",
    "\n",
    "##Confusion Matrix for Random Forest: Absolute Valuesa\n",
    "cm_rf = confusion_matrix(y_test, predictions_rf)\n",
    "disp_rf = ConfusionMatrixDisplay(confusion_matrix = cm_rf)\n",
    "disp_rf.plot()\n",
    "disp_rf.ax_.set_title('Confusion Matrix for Random Forest: Absolute Values')\n",
    "\n",
    "\n",
    "\n",
    "#Confusion Matrix for Random Forest: Relative Values\n",
    "cm_rf = confusion_matrix(y_test, predictions_rf, normalize = 'all')\n",
    "disp_rf = ConfusionMatrixDisplay(confusion_matrix = cm_rf)\n",
    "disp_rf.plot()\n",
    "disp_rf.ax_.set_title('Confusion Matrix for Random Forest: Relative Values')\n"
   ]
  },
  {
   "cell_type": "markdown",
   "id": "5398e4f0",
   "metadata": {},
   "source": [
    "Evaluation: Prediction using RandomForest is quite good out of the box --> Likely the dataset is not challenging"
   ]
  },
  {
   "cell_type": "markdown",
   "id": "86851ec2",
   "metadata": {},
   "source": [
    "##### Comparison with AdaBoost Classifier"
   ]
  },
  {
   "cell_type": "code",
   "execution_count": 26,
   "id": "e41185ca",
   "metadata": {},
   "outputs": [
    {
     "data": {
      "text/plain": [
       "Text(0.5, 1.0, 'Confusion Matrix for AdaBoost: Relative Values')"
      ]
     },
     "execution_count": 26,
     "metadata": {},
     "output_type": "execute_result"
    },
    {
     "data": {
      "image/png": "[encoded data removed]",
      "text/plain": [
       "<Figure size 432x288 with 2 Axes>"
      ]
     },
     "metadata": {
      "needs_background": "light"
     },
     "output_type": "display_data"
    },
    {
     "data": {
      "image/png": "[encoded data removed]",
      "text/plain": [
       "<Figure size 432x288 with 2 Axes>"
      ]
     },
     "metadata": {
      "needs_background": "light"
     },
     "output_type": "display_data"
    }
   ],
   "source": [
    "clf_ada = AdaBoostClassifier(n_estimators = 5000, random_state = 42)\n",
    "clf_ada.fit (X_train, y_train)\n",
    "\n",
    "predictions_ada = clf_ada.predict(X_test)\n",
    "\n",
    "\n",
    "##Confusion Matrix for AdaBoost: Absolute Values\n",
    "cm_ada = confusion_matrix(y_test, predictions_ada)\n",
    "disp_ada = ConfusionMatrixDisplay(confusion_matrix = cm_ada)\n",
    "disp_ada.plot()\n",
    "disp_ada.ax_.set_title('Confusion Matrix for AdaBoost: Absolute Values')\n",
    "\n",
    "##Confusion Matrix for AdaBoost: Relative Values\n",
    "cm_ada = confusion_matrix(y_test, predictions_ada, normalize = 'all')\n",
    "disp_ada = ConfusionMatrixDisplay(confusion_matrix = cm_ada)\n",
    "disp_ada.plot()\n",
    "disp_ada.ax_.set_title('Confusion Matrix for AdaBoost: Relative Values')"
   ]
  },
  {
   "cell_type": "markdown",
   "id": "683bcdf1",
   "metadata": {},
   "source": [
    "##### Comparison with k-nearest-neighbours - Classification"
   ]
  },
  {
   "cell_type": "code",
   "execution_count": 27,
   "id": "b22f49f7",
   "metadata": {},
   "outputs": [
    {
     "data": {
      "text/plain": [
       "Text(0.5, 1.0, 'Confusion Matrix for K-Nearest Neighbors: Relative Values')"
      ]
     },
     "execution_count": 27,
     "metadata": {},
     "output_type": "execute_result"
    },
    {
     "data": {
      "image/png": "[encoded data removed]",
      "text/plain": [
       "<Figure size 432x288 with 2 Axes>"
      ]
     },
     "metadata": {
      "needs_background": "light"
     },
     "output_type": "display_data"
    },
    {
     "data": {
      "image/png": "[encoded data removed]",
      "text/plain": [
       "<Figure size 432x288 with 2 Axes>"
      ]
     },
     "metadata": {
      "needs_background": "light"
     },
     "output_type": "display_data"
    }
   ],
   "source": [
    "clf_knn = KNeighborsClassifier(n_neighbors = 10)\n",
    "clf_knn.fit(X_train, y_train)\n",
    "\n",
    "predictions_knn = clf_knn.predict(X_test)\n",
    "\n",
    "\n",
    "##Confusion Matrix for K-Nearest Neighbors: Absolute Values\n",
    "cm_knn = confusion_matrix(y_test, predictions_knn)\n",
    "disp_knn = ConfusionMatrixDisplay(confusion_matrix = cm_knn)\n",
    "disp_knn.plot()\n",
    "disp_knn.ax_.set_title('Confusion Matrix for K-Nearest Neighbors: Absolute Values')\n",
    "\n",
    "##Confusion Matrix for K-Nearest Neighbors: Relative Values\n",
    "cm_knn = confusion_matrix(y_test, predictions_knn, normalize = 'all')\n",
    "disp_knn = ConfusionMatrixDisplay(confusion_matrix = cm_knn)\n",
    "disp_knn.plot()\n",
    "disp_knn.ax_.set_title('Confusion Matrix for K-Nearest Neighbors: Relative Values')\n",
    "\n"
   ]
  },
  {
   "cell_type": "markdown",
   "id": "ccff1ea4",
   "metadata": {},
   "source": [
    "##### Comparison with Linear Discriminant Analysis"
   ]
  },
  {
   "cell_type": "code",
   "execution_count": 28,
   "id": "c9f3becb",
   "metadata": {},
   "outputs": [
    {
     "data": {
      "text/plain": [
       "Text(0.5, 1.0, 'Linear Discriminant Analysis: Relative Values')"
      ]
     },
     "execution_count": 28,
     "metadata": {},
     "output_type": "execute_result"
    },
    {
     "data": {
      "image/png": "[encoded data removed]",
      "text/plain": [
       "<Figure size 432x288 with 2 Axes>"
      ]
     },
     "metadata": {
      "needs_background": "light"
     },
     "output_type": "display_data"
    },
    {
     "data": {
      "image/png": "[encoded data removed]",
      "text/plain": [
       "<Figure size 432x288 with 2 Axes>"
      ]
     },
     "metadata": {
      "needs_background": "light"
     },
     "output_type": "display_data"
    }
   ],
   "source": [
    "from sklearn.discriminant_analysis import LinearDiscriminantAnalysis\n",
    "\n",
    "clf_lda = LinearDiscriminantAnalysis()\n",
    "clf_lda.fit(X_train, y_train)\n",
    "\n",
    "predictions_lda = clf_lda.predict(X_test)\n",
    "\n",
    "##Confusion Matrix for Linear Discriminant Analysis: Absolute Values\n",
    "cm_lda = confusion_matrix(y_test, predictions_lda)\n",
    "disp_lda = ConfusionMatrixDisplay(confusion_matrix = cm_lda)\n",
    "disp_lda.plot()\n",
    "disp_lda.ax_.set_title('Linear Discriminant Analysis: Absolute Values')\n",
    "\n",
    "##Confusion Matrix for Linear Discriminant Analysis: Relative Values\n",
    "cm_lda = confusion_matrix(y_test, predictions_lda, normalize = 'all')\n",
    "disp_lda = ConfusionMatrixDisplay(confusion_matrix = cm_lda)\n",
    "disp_lda.plot()\n",
    "disp_lda.ax_.set_title('Linear Discriminant Analysis: Relative Values')\n",
    "\n"
   ]
  },
  {
   "cell_type": "markdown",
   "id": "6df0bd22",
   "metadata": {},
   "source": [
    "\n",
    "\n",
    "\n",
    "\n",
    "## 4. Evaluation / Method Comparison\n",
    "\n",
    "- In general the classification task seems to be not too challenging. All methods had an acceptable performance.\n",
    "- Comparison\n",
    "    - Linear Discriminant Analysis has the best performance\n",
    "    - RandomForest performs slightly better on predicting observations with WineCategory == 1\n",
    "    - AdaBoost performs slightly better on predicting observations with WineCategory == 1 or == 3\n",
    "    - K-Nearest-Neighbors (k = 10) has a sub-par performance"
   ]
  }
 ],
 "metadata": {
  "kernelspec": {
   "display_name": "Python 3 (ipykernel)",
   "language": "python",
   "name": "python3"
  },
  "language_info": {
   "codemirror_mode": {
    "name": "ipython",
    "version": 3
   },
   "file_extension": ".py",
   "mimetype": "text/x-python",
   "name": "python",
   "nbconvert_exporter": "python",
   "pygments_lexer": "ipython3",
   "version": "3.7.11"
  }
 },
 "nbformat": 4,
 "nbformat_minor": 5
}
